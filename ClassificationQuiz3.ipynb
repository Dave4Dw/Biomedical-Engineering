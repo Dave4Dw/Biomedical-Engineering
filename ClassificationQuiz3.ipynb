{
  "nbformat": 4,
  "nbformat_minor": 0,
  "metadata": {
    "colab": {
      "name": "ClassificationQuiz3.ipynb",
      "provenance": [],
      "collapsed_sections": [],
      "authorship_tag": "ABX9TyN2UeE/X90S6ixG5fdXceCo",
      "include_colab_link": true
    },
    "kernelspec": {
      "name": "python3",
      "display_name": "Python 3"
    }
  },
  "cells": [
    {
      "cell_type": "markdown",
      "metadata": {
        "id": "view-in-github",
        "colab_type": "text"
      },
      "source": [
        "<a href=\"https://colab.research.google.com/github/Dave4Dw/Biomedical-Engineering/blob/master/ClassificationQuiz3.ipynb\" target=\"_parent\"><img src=\"https://colab.research.google.com/assets/colab-badge.svg\" alt=\"Open In Colab\"/></a>"
      ]
    },
    {
      "cell_type": "code",
      "metadata": {
        "id": "povAzHGvHwrx",
        "colab_type": "code",
        "colab": {}
      },
      "source": [
        "import pandas as pd\n",
        "import pylab as pl\n",
        "import numpy as np\n",
        "import scipy.optimize as opt\n",
        "from sklearn.model_selection import cross_val_score\n",
        "from sklearn.metrics import confusion_matrix\n",
        "from sklearn import preprocessing\n",
        "from sklearn.metrics import accuracy_score\n",
        "from xgboost.sklearn import XGBClassifier\n",
        "from sklearn.model_selection import train_test_split\n",
        "%matplotlib inline \n",
        "import matplotlib.pyplot as plt"
      ],
      "execution_count": 100,
      "outputs": []
    },
    {
      "cell_type": "code",
      "metadata": {
        "id": "xj1UFyeVH7PR",
        "colab_type": "code",
        "colab": {
          "base_uri": "https://localhost:8080/",
          "height": 306
        },
        "outputId": "27cf2e43-fd90-4225-a7be-9c2566961f19"
      },
      "source": [
        "!wget clone https://archive.ics.uci.edu/ml/machine-learning-databases/00471/Data_for_UCI_named.csv"
      ],
      "execution_count": 2,
      "outputs": [
        {
          "output_type": "stream",
          "text": [
            "--2020-08-26 16:15:57--  http://clone/\n",
            "Resolving clone (clone)... failed: Name or service not known.\n",
            "wget: unable to resolve host address ‘clone’\n",
            "--2020-08-26 16:15:57--  https://archive.ics.uci.edu/ml/machine-learning-databases/00471/Data_for_UCI_named.csv\n",
            "Resolving archive.ics.uci.edu (archive.ics.uci.edu)... 128.195.10.252\n",
            "Connecting to archive.ics.uci.edu (archive.ics.uci.edu)|128.195.10.252|:443... connected.\n",
            "HTTP request sent, awaiting response... 200 OK\n",
            "Length: 2417871 (2.3M) [application/x-httpd-php]\n",
            "Saving to: ‘Data_for_UCI_named.csv’\n",
            "\n",
            "Data_for_UCI_named. 100%[===================>]   2.31M  5.09MB/s    in 0.5s    \n",
            "\n",
            "2020-08-26 16:15:57 (5.09 MB/s) - ‘Data_for_UCI_named.csv’ saved [2417871/2417871]\n",
            "\n",
            "FINISHED --2020-08-26 16:15:57--\n",
            "Total wall clock time: 0.8s\n",
            "Downloaded: 1 files, 2.3M in 0.5s (5.09 MB/s)\n"
          ],
          "name": "stdout"
        }
      ]
    },
    {
      "cell_type": "code",
      "metadata": {
        "id": "lpJoZNmUIBJ1",
        "colab_type": "code",
        "colab": {
          "base_uri": "https://localhost:8080/",
          "height": 204
        },
        "outputId": "21063c58-a40a-4900-b33e-33a3141677d7"
      },
      "source": [
        "df=pd.read_csv('Data_for_UCI_named.csv')\n",
        "df.head()"
      ],
      "execution_count": 3,
      "outputs": [
        {
          "output_type": "execute_result",
          "data": {
            "text/html": [
              "<div>\n",
              "<style scoped>\n",
              "    .dataframe tbody tr th:only-of-type {\n",
              "        vertical-align: middle;\n",
              "    }\n",
              "\n",
              "    .dataframe tbody tr th {\n",
              "        vertical-align: top;\n",
              "    }\n",
              "\n",
              "    .dataframe thead th {\n",
              "        text-align: right;\n",
              "    }\n",
              "</style>\n",
              "<table border=\"1\" class=\"dataframe\">\n",
              "  <thead>\n",
              "    <tr style=\"text-align: right;\">\n",
              "      <th></th>\n",
              "      <th>tau1</th>\n",
              "      <th>tau2</th>\n",
              "      <th>tau3</th>\n",
              "      <th>tau4</th>\n",
              "      <th>p1</th>\n",
              "      <th>p2</th>\n",
              "      <th>p3</th>\n",
              "      <th>p4</th>\n",
              "      <th>g1</th>\n",
              "      <th>g2</th>\n",
              "      <th>g3</th>\n",
              "      <th>g4</th>\n",
              "      <th>stab</th>\n",
              "      <th>stabf</th>\n",
              "    </tr>\n",
              "  </thead>\n",
              "  <tbody>\n",
              "    <tr>\n",
              "      <th>0</th>\n",
              "      <td>2.959060</td>\n",
              "      <td>3.079885</td>\n",
              "      <td>8.381025</td>\n",
              "      <td>9.780754</td>\n",
              "      <td>3.763085</td>\n",
              "      <td>-0.782604</td>\n",
              "      <td>-1.257395</td>\n",
              "      <td>-1.723086</td>\n",
              "      <td>0.650456</td>\n",
              "      <td>0.859578</td>\n",
              "      <td>0.887445</td>\n",
              "      <td>0.958034</td>\n",
              "      <td>0.055347</td>\n",
              "      <td>unstable</td>\n",
              "    </tr>\n",
              "    <tr>\n",
              "      <th>1</th>\n",
              "      <td>9.304097</td>\n",
              "      <td>4.902524</td>\n",
              "      <td>3.047541</td>\n",
              "      <td>1.369357</td>\n",
              "      <td>5.067812</td>\n",
              "      <td>-1.940058</td>\n",
              "      <td>-1.872742</td>\n",
              "      <td>-1.255012</td>\n",
              "      <td>0.413441</td>\n",
              "      <td>0.862414</td>\n",
              "      <td>0.562139</td>\n",
              "      <td>0.781760</td>\n",
              "      <td>-0.005957</td>\n",
              "      <td>stable</td>\n",
              "    </tr>\n",
              "    <tr>\n",
              "      <th>2</th>\n",
              "      <td>8.971707</td>\n",
              "      <td>8.848428</td>\n",
              "      <td>3.046479</td>\n",
              "      <td>1.214518</td>\n",
              "      <td>3.405158</td>\n",
              "      <td>-1.207456</td>\n",
              "      <td>-1.277210</td>\n",
              "      <td>-0.920492</td>\n",
              "      <td>0.163041</td>\n",
              "      <td>0.766689</td>\n",
              "      <td>0.839444</td>\n",
              "      <td>0.109853</td>\n",
              "      <td>0.003471</td>\n",
              "      <td>unstable</td>\n",
              "    </tr>\n",
              "    <tr>\n",
              "      <th>3</th>\n",
              "      <td>0.716415</td>\n",
              "      <td>7.669600</td>\n",
              "      <td>4.486641</td>\n",
              "      <td>2.340563</td>\n",
              "      <td>3.963791</td>\n",
              "      <td>-1.027473</td>\n",
              "      <td>-1.938944</td>\n",
              "      <td>-0.997374</td>\n",
              "      <td>0.446209</td>\n",
              "      <td>0.976744</td>\n",
              "      <td>0.929381</td>\n",
              "      <td>0.362718</td>\n",
              "      <td>0.028871</td>\n",
              "      <td>unstable</td>\n",
              "    </tr>\n",
              "    <tr>\n",
              "      <th>4</th>\n",
              "      <td>3.134112</td>\n",
              "      <td>7.608772</td>\n",
              "      <td>4.943759</td>\n",
              "      <td>9.857573</td>\n",
              "      <td>3.525811</td>\n",
              "      <td>-1.125531</td>\n",
              "      <td>-1.845975</td>\n",
              "      <td>-0.554305</td>\n",
              "      <td>0.797110</td>\n",
              "      <td>0.455450</td>\n",
              "      <td>0.656947</td>\n",
              "      <td>0.820923</td>\n",
              "      <td>0.049860</td>\n",
              "      <td>unstable</td>\n",
              "    </tr>\n",
              "  </tbody>\n",
              "</table>\n",
              "</div>"
            ],
            "text/plain": [
              "       tau1      tau2      tau3  ...        g4      stab     stabf\n",
              "0  2.959060  3.079885  8.381025  ...  0.958034  0.055347  unstable\n",
              "1  9.304097  4.902524  3.047541  ...  0.781760 -0.005957    stable\n",
              "2  8.971707  8.848428  3.046479  ...  0.109853  0.003471  unstable\n",
              "3  0.716415  7.669600  4.486641  ...  0.362718  0.028871  unstable\n",
              "4  3.134112  7.608772  4.943759  ...  0.820923  0.049860  unstable\n",
              "\n",
              "[5 rows x 14 columns]"
            ]
          },
          "metadata": {
            "tags": []
          },
          "execution_count": 3
        }
      ]
    },
    {
      "cell_type": "code",
      "metadata": {
        "id": "8q8X0K8FIGh3",
        "colab_type": "code",
        "colab": {
          "base_uri": "https://localhost:8080/",
          "height": 68
        },
        "outputId": "3125db5d-e9e8-45bb-dda0-4fc41456d008"
      },
      "source": [
        "import sklearn.utils\n",
        "data_df = sklearn.utils.shuffle(df)\n",
        "data_df = data_df.reset_index(drop=True)\n",
        "data_df.shape\n",
        "data_df.stabf.value_counts()"
      ],
      "execution_count": 4,
      "outputs": [
        {
          "output_type": "execute_result",
          "data": {
            "text/plain": [
              "unstable    6380\n",
              "stable      3620\n",
              "Name: stabf, dtype: int64"
            ]
          },
          "metadata": {
            "tags": []
          },
          "execution_count": 4
        }
      ]
    },
    {
      "cell_type": "code",
      "metadata": {
        "id": "JuMlUqndIOmB",
        "colab_type": "code",
        "colab": {
          "base_uri": "https://localhost:8080/",
          "height": 419
        },
        "outputId": "23c8a98f-9254-44fb-e930-d3ffa47d8a65"
      },
      "source": [
        "data_df = data_df.drop(columns=['stab'])\n",
        "data_df"
      ],
      "execution_count": 5,
      "outputs": [
        {
          "output_type": "execute_result",
          "data": {
            "text/html": [
              "<div>\n",
              "<style scoped>\n",
              "    .dataframe tbody tr th:only-of-type {\n",
              "        vertical-align: middle;\n",
              "    }\n",
              "\n",
              "    .dataframe tbody tr th {\n",
              "        vertical-align: top;\n",
              "    }\n",
              "\n",
              "    .dataframe thead th {\n",
              "        text-align: right;\n",
              "    }\n",
              "</style>\n",
              "<table border=\"1\" class=\"dataframe\">\n",
              "  <thead>\n",
              "    <tr style=\"text-align: right;\">\n",
              "      <th></th>\n",
              "      <th>tau1</th>\n",
              "      <th>tau2</th>\n",
              "      <th>tau3</th>\n",
              "      <th>tau4</th>\n",
              "      <th>p1</th>\n",
              "      <th>p2</th>\n",
              "      <th>p3</th>\n",
              "      <th>p4</th>\n",
              "      <th>g1</th>\n",
              "      <th>g2</th>\n",
              "      <th>g3</th>\n",
              "      <th>g4</th>\n",
              "      <th>stabf</th>\n",
              "    </tr>\n",
              "  </thead>\n",
              "  <tbody>\n",
              "    <tr>\n",
              "      <th>0</th>\n",
              "      <td>9.823434</td>\n",
              "      <td>2.250608</td>\n",
              "      <td>2.749882</td>\n",
              "      <td>2.616078</td>\n",
              "      <td>3.159622</td>\n",
              "      <td>-1.464847</td>\n",
              "      <td>-1.143119</td>\n",
              "      <td>-0.551655</td>\n",
              "      <td>0.294593</td>\n",
              "      <td>0.638011</td>\n",
              "      <td>0.304222</td>\n",
              "      <td>0.648182</td>\n",
              "      <td>stable</td>\n",
              "    </tr>\n",
              "    <tr>\n",
              "      <th>1</th>\n",
              "      <td>6.709216</td>\n",
              "      <td>3.936014</td>\n",
              "      <td>5.875941</td>\n",
              "      <td>3.312114</td>\n",
              "      <td>4.346621</td>\n",
              "      <td>-1.482839</td>\n",
              "      <td>-0.960576</td>\n",
              "      <td>-1.903205</td>\n",
              "      <td>0.872806</td>\n",
              "      <td>0.143455</td>\n",
              "      <td>0.491080</td>\n",
              "      <td>0.800742</td>\n",
              "      <td>unstable</td>\n",
              "    </tr>\n",
              "    <tr>\n",
              "      <th>2</th>\n",
              "      <td>2.678574</td>\n",
              "      <td>5.706140</td>\n",
              "      <td>9.502972</td>\n",
              "      <td>9.211296</td>\n",
              "      <td>4.694377</td>\n",
              "      <td>-1.711944</td>\n",
              "      <td>-1.709078</td>\n",
              "      <td>-1.273355</td>\n",
              "      <td>0.073540</td>\n",
              "      <td>0.175700</td>\n",
              "      <td>0.166179</td>\n",
              "      <td>0.357343</td>\n",
              "      <td>stable</td>\n",
              "    </tr>\n",
              "    <tr>\n",
              "      <th>3</th>\n",
              "      <td>2.910098</td>\n",
              "      <td>6.637278</td>\n",
              "      <td>7.912512</td>\n",
              "      <td>9.719824</td>\n",
              "      <td>3.355975</td>\n",
              "      <td>-0.755037</td>\n",
              "      <td>-1.138717</td>\n",
              "      <td>-1.462222</td>\n",
              "      <td>0.814465</td>\n",
              "      <td>0.129878</td>\n",
              "      <td>0.438033</td>\n",
              "      <td>0.416520</td>\n",
              "      <td>unstable</td>\n",
              "    </tr>\n",
              "    <tr>\n",
              "      <th>4</th>\n",
              "      <td>3.850279</td>\n",
              "      <td>5.179842</td>\n",
              "      <td>3.273996</td>\n",
              "      <td>4.775269</td>\n",
              "      <td>4.614807</td>\n",
              "      <td>-0.764868</td>\n",
              "      <td>-1.863922</td>\n",
              "      <td>-1.986018</td>\n",
              "      <td>0.342834</td>\n",
              "      <td>0.585365</td>\n",
              "      <td>0.837667</td>\n",
              "      <td>0.736669</td>\n",
              "      <td>unstable</td>\n",
              "    </tr>\n",
              "    <tr>\n",
              "      <th>...</th>\n",
              "      <td>...</td>\n",
              "      <td>...</td>\n",
              "      <td>...</td>\n",
              "      <td>...</td>\n",
              "      <td>...</td>\n",
              "      <td>...</td>\n",
              "      <td>...</td>\n",
              "      <td>...</td>\n",
              "      <td>...</td>\n",
              "      <td>...</td>\n",
              "      <td>...</td>\n",
              "      <td>...</td>\n",
              "      <td>...</td>\n",
              "    </tr>\n",
              "    <tr>\n",
              "      <th>9995</th>\n",
              "      <td>7.685556</td>\n",
              "      <td>2.480296</td>\n",
              "      <td>4.788277</td>\n",
              "      <td>8.255404</td>\n",
              "      <td>3.820313</td>\n",
              "      <td>-0.572640</td>\n",
              "      <td>-1.332654</td>\n",
              "      <td>-1.915019</td>\n",
              "      <td>0.509561</td>\n",
              "      <td>0.951463</td>\n",
              "      <td>0.986001</td>\n",
              "      <td>0.485220</td>\n",
              "      <td>unstable</td>\n",
              "    </tr>\n",
              "    <tr>\n",
              "      <th>9996</th>\n",
              "      <td>2.785538</td>\n",
              "      <td>7.055268</td>\n",
              "      <td>5.661161</td>\n",
              "      <td>5.817528</td>\n",
              "      <td>4.641683</td>\n",
              "      <td>-1.537321</td>\n",
              "      <td>-1.809065</td>\n",
              "      <td>-1.295297</td>\n",
              "      <td>0.185250</td>\n",
              "      <td>0.663805</td>\n",
              "      <td>0.875157</td>\n",
              "      <td>0.262646</td>\n",
              "      <td>unstable</td>\n",
              "    </tr>\n",
              "    <tr>\n",
              "      <th>9997</th>\n",
              "      <td>8.285320</td>\n",
              "      <td>9.511356</td>\n",
              "      <td>9.869747</td>\n",
              "      <td>9.565042</td>\n",
              "      <td>3.745313</td>\n",
              "      <td>-1.197943</td>\n",
              "      <td>-1.358259</td>\n",
              "      <td>-1.189110</td>\n",
              "      <td>0.148789</td>\n",
              "      <td>0.956649</td>\n",
              "      <td>0.244529</td>\n",
              "      <td>0.506028</td>\n",
              "      <td>unstable</td>\n",
              "    </tr>\n",
              "    <tr>\n",
              "      <th>9998</th>\n",
              "      <td>2.101243</td>\n",
              "      <td>2.485882</td>\n",
              "      <td>8.056167</td>\n",
              "      <td>2.388032</td>\n",
              "      <td>3.774178</td>\n",
              "      <td>-0.754000</td>\n",
              "      <td>-1.551043</td>\n",
              "      <td>-1.469135</td>\n",
              "      <td>0.861584</td>\n",
              "      <td>0.731717</td>\n",
              "      <td>0.581293</td>\n",
              "      <td>0.812137</td>\n",
              "      <td>stable</td>\n",
              "    </tr>\n",
              "    <tr>\n",
              "      <th>9999</th>\n",
              "      <td>2.378526</td>\n",
              "      <td>1.691270</td>\n",
              "      <td>7.310914</td>\n",
              "      <td>5.425650</td>\n",
              "      <td>4.681074</td>\n",
              "      <td>-1.778416</td>\n",
              "      <td>-1.606231</td>\n",
              "      <td>-1.296427</td>\n",
              "      <td>0.766325</td>\n",
              "      <td>0.951235</td>\n",
              "      <td>0.725483</td>\n",
              "      <td>0.870569</td>\n",
              "      <td>unstable</td>\n",
              "    </tr>\n",
              "  </tbody>\n",
              "</table>\n",
              "<p>10000 rows × 13 columns</p>\n",
              "</div>"
            ],
            "text/plain": [
              "          tau1      tau2      tau3  ...        g3        g4     stabf\n",
              "0     9.823434  2.250608  2.749882  ...  0.304222  0.648182    stable\n",
              "1     6.709216  3.936014  5.875941  ...  0.491080  0.800742  unstable\n",
              "2     2.678574  5.706140  9.502972  ...  0.166179  0.357343    stable\n",
              "3     2.910098  6.637278  7.912512  ...  0.438033  0.416520  unstable\n",
              "4     3.850279  5.179842  3.273996  ...  0.837667  0.736669  unstable\n",
              "...        ...       ...       ...  ...       ...       ...       ...\n",
              "9995  7.685556  2.480296  4.788277  ...  0.986001  0.485220  unstable\n",
              "9996  2.785538  7.055268  5.661161  ...  0.875157  0.262646  unstable\n",
              "9997  8.285320  9.511356  9.869747  ...  0.244529  0.506028  unstable\n",
              "9998  2.101243  2.485882  8.056167  ...  0.581293  0.812137    stable\n",
              "9999  2.378526  1.691270  7.310914  ...  0.725483  0.870569  unstable\n",
              "\n",
              "[10000 rows x 13 columns]"
            ]
          },
          "metadata": {
            "tags": []
          },
          "execution_count": 5
        }
      ]
    },
    {
      "cell_type": "code",
      "metadata": {
        "id": "xBA-Vx5HIWQb",
        "colab_type": "code",
        "colab": {}
      },
      "source": [
        "X = data_df.drop(columns = 'stabf')\n",
        "y = data_df['stabf']"
      ],
      "execution_count": 6,
      "outputs": []
    },
    {
      "cell_type": "code",
      "metadata": {
        "id": "CdYhmntQIyFF",
        "colab_type": "code",
        "colab": {}
      },
      "source": [
        "from sklearn import preprocessing\n",
        "X = preprocessing.StandardScaler().fit(X).transform(X)"
      ],
      "execution_count": null,
      "outputs": []
    },
    {
      "cell_type": "code",
      "metadata": {
        "id": "81sLY3IBIeuU",
        "colab_type": "code",
        "colab": {
          "base_uri": "https://localhost:8080/",
          "height": 51
        },
        "outputId": "01dd895a-6dd4-4f75-f222-c1dbdab64900"
      },
      "source": [
        "from sklearn.model_selection import train_test_split\n",
        "X_train, X_test, y_train, y_test = train_test_split( X, y, test_size=0.2, random_state=1)\n",
        "print ('Train set:', X_train.shape,  y_train.shape)\n",
        "print ('Test set:', X_test.shape,  y_test.shape)"
      ],
      "execution_count": 12,
      "outputs": [
        {
          "output_type": "stream",
          "text": [
            "Train set: (8000, 12) (8000,)\n",
            "Test set: (2000, 12) (2000,)\n"
          ],
          "name": "stdout"
        }
      ]
    },
    {
      "cell_type": "code",
      "metadata": {
        "id": "hZ-frUDmIkh7",
        "colab_type": "code",
        "colab": {
          "base_uri": "https://localhost:8080/",
          "height": 153
        },
        "outputId": "07b1d1fd-c986-4ea4-f201-e06f5a26af95"
      },
      "source": [
        "from sklearn.ensemble import RandomForestClassifier\n",
        "model = RandomForestClassifier(n_estimators=100,oob_score= True, random_state=1 )\n",
        "model.fit(x_train,y_train)"
      ],
      "execution_count": 103,
      "outputs": [
        {
          "output_type": "execute_result",
          "data": {
            "text/plain": [
              "RandomForestClassifier(bootstrap=True, ccp_alpha=0.0, class_weight=None,\n",
              "                       criterion='gini', max_depth=None, max_features='auto',\n",
              "                       max_leaf_nodes=None, max_samples=None,\n",
              "                       min_impurity_decrease=0.0, min_impurity_split=None,\n",
              "                       min_samples_leaf=1, min_samples_split=2,\n",
              "                       min_weight_fraction_leaf=0.0, n_estimators=100,\n",
              "                       n_jobs=None, oob_score=True, random_state=1, verbose=0,\n",
              "                       warm_start=False)"
            ]
          },
          "metadata": {
            "tags": []
          },
          "execution_count": 103
        }
      ]
    },
    {
      "cell_type": "code",
      "metadata": {
        "id": "pIUfHvUnbLpu",
        "colab_type": "code",
        "colab": {
          "base_uri": "https://localhost:8080/",
          "height": 51
        },
        "outputId": "8124fa57-9cec-45c0-8026-6945d0247fd3"
      },
      "source": [
        "\n",
        "print(\"oob_score\",model.oob_score_)\n",
        "print(\"crossvalidation randforest\",model.score(x_test,y_test))\n",
        "y_predicted = model.predict(x_test)\n",
        "\n",
        "\n",
        "\n"
      ],
      "execution_count": 121,
      "outputs": [
        {
          "output_type": "stream",
          "text": [
            "oob_score 0.912125\n",
            "crossvalidation randforest 0.9285\n"
          ],
          "name": "stdout"
        }
      ]
    },
    {
      "cell_type": "code",
      "metadata": {
        "id": "sBt4jPyYuddx",
        "colab_type": "code",
        "colab": {
          "base_uri": "https://localhost:8080/",
          "height": 85
        },
        "outputId": "229b8bed-c784-45be-8977-9be8762405bc"
      },
      "source": [
        "from sklearn.metrics import confusion_matrix\n",
        "from sklearn.metrics import recall_score, accuracy_score, precision_score, f1_score, confusion_matrix\n",
        "cnf_mat = confusion_matrix(y_true=y_test, y_pred= y_predicted, labels=['unstable', 'stable'])\n",
        "print(\"confusion_matrix\",cnf_mat)\n",
        "#Accuracy\n",
        "accuracy = accuracy_score(y_true = y_test, y_pred = y_predicted)\n",
        "print('Accuracy: {}'.format(round(accuracy*100, 2)))\n",
        "#precision\n",
        "precision = precision_score(y_true=y_test, y_pred=y_predicted, pos_label='unstable')\n",
        "print('Presicion: {}'.format(round(precision*100), 2))"
      ],
      "execution_count": 129,
      "outputs": [
        {
          "output_type": "stream",
          "text": [
            "confusion_matrix [[1263   50]\n",
            " [  93  594]]\n",
            "Accuracy: 92.85\n",
            "Presicion: 93.0\n"
          ],
          "name": "stdout"
        }
      ]
    },
    {
      "cell_type": "code",
      "metadata": {
        "id": "XJT8quR0Z3yD",
        "colab_type": "code",
        "colab": {
          "base_uri": "https://localhost:8080/",
          "height": 351
        },
        "outputId": "562fbb70-56b5-4773-9612-61ba62fc9006"
      },
      "source": [
        "import seaborn as sns \n",
        "plt.figure(figsize=(8,5))\n",
        "sns.heatmap(cm,annot=True)\n",
        "plt.xlabel('Predicted')\n",
        "plt.ylabel('Truth')"
      ],
      "execution_count": 123,
      "outputs": [
        {
          "output_type": "execute_result",
          "data": {
            "text/plain": [
              "Text(51.0, 0.5, 'Truth')"
            ]
          },
          "metadata": {
            "tags": []
          },
          "execution_count": 123
        },
        {
          "output_type": "display_data",
          "data": {
            "image/png": "[encoded data removed]",
            "text/plain": [
              "<Figure size 576x360 with 2 Axes>"
            ]
          },
          "metadata": {
            "tags": [],
            "needs_background": "light"
          }
        }
      ]
    },
    {
      "cell_type": "code",
      "metadata": {
        "id": "z_RBjDxQucDX",
        "colab_type": "code",
        "colab": {
          "base_uri": "https://localhost:8080/",
          "height": 68
        },
        "outputId": "aee82340-a2a5-4a7f-e737-34f98747fdd7"
      },
      "source": [
        "model.feature_importances_"
      ],
      "execution_count": 124,
      "outputs": [
        {
          "output_type": "execute_result",
          "data": {
            "text/plain": [
              "array([0.1274173 , 0.12606078, 0.11885784, 0.12585555, 0.02859439,\n",
              "       0.0295456 , 0.02964632, 0.02983872, 0.09308153, 0.09714323,\n",
              "       0.09972423, 0.0942345 ])"
            ]
          },
          "metadata": {
            "tags": []
          },
          "execution_count": 124
        }
      ]
    },
    {
      "cell_type": "code",
      "metadata": {
        "id": "tD1xaq0IYSIY",
        "colab_type": "code",
        "colab": {
          "base_uri": "https://localhost:8080/",
          "height": 153
        },
        "outputId": "e287a6aa-dcf8-4d4b-fb3a-270f931a8e18"
      },
      "source": [
        "from sklearn.ensemble import  ExtraTreesClassifier\n",
        "etc = ExtraTreesClassifier(n_estimators=100)\n",
        "etc.fit(x_train,y_train)\n"
      ],
      "execution_count": 125,
      "outputs": [
        {
          "output_type": "execute_result",
          "data": {
            "text/plain": [
              "ExtraTreesClassifier(bootstrap=False, ccp_alpha=0.0, class_weight=None,\n",
              "                     criterion='gini', max_depth=None, max_features='auto',\n",
              "                     max_leaf_nodes=None, max_samples=None,\n",
              "                     min_impurity_decrease=0.0, min_impurity_split=None,\n",
              "                     min_samples_leaf=1, min_samples_split=2,\n",
              "                     min_weight_fraction_leaf=0.0, n_estimators=100,\n",
              "                     n_jobs=None, oob_score=False, random_state=None, verbose=0,\n",
              "                     warm_start=False)"
            ]
          },
          "metadata": {
            "tags": []
          },
          "execution_count": 125
        }
      ]
    },
    {
      "cell_type": "code",
      "metadata": {
        "id": "wx7VVSEHT0Xr",
        "colab_type": "code",
        "colab": {
          "base_uri": "https://localhost:8080/",
          "height": 85
        },
        "outputId": "f5522720-18b5-4135-cad4-60e9c7fd8e14"
      },
      "source": [
        "score = etc.score(x_train,y_train)\n",
        "print(\"Score\",score)\n",
        "cv_scores = cross_val_score(etc,x_train,y_train,cv = 10)\n",
        "print(\"CV ava Score:\",cv_scores.mean())\n",
        "ypred = etc.predict(x_test)\n",
        "com = confusion_matrix(y_test,ypred)\n",
        "print(\"Confussion Metrix:\",com)\n"
      ],
      "execution_count": 85,
      "outputs": [
        {
          "output_type": "stream",
          "text": [
            "Score 1.0\n",
            "CV ava Score: 0.92275\n",
            "Confussion Metrix: [[ 577  110]\n",
            " [  26 1287]]\n"
          ],
          "name": "stdout"
        }
      ]
    },
    {
      "cell_type": "code",
      "metadata": {
        "id": "VxZs7WRdULBo",
        "colab_type": "code",
        "colab": {}
      },
      "source": [
        "n_estimators = [50, 100, 300, 500, 1000]\n",
        "\n",
        "min_samples_split = [2, 3, 5, 7, 9]\n",
        "\n",
        "min_samples_leaf = [1, 2, 4, 6, 8]\n",
        "\n",
        "max_features = ['auto', 'sqrt', 'log2', None] \n",
        "hyperparameter_grid = {'n_estimators': n_estimators,\n",
        "\n",
        "                       'min_samples_leaf': min_samples_leaf,\n",
        "\n",
        "                       'min_samples_split': min_samples_split,\n",
        "\n",
        "                       'max_features': max_features}"
      ],
      "execution_count": 111,
      "outputs": []
    },
    {
      "cell_type": "code",
      "metadata": {
        "id": "Df6voxmWU_9W",
        "colab_type": "code",
        "colab": {}
      },
      "source": [
        "from sklearn.metrics import roc_auc_score\n",
        "results = []\n",
        "n_estimators = [50, 100, 300, 500, 1000]\n",
        "for trees in n_estimators:\n",
        "  model = RandomForestClassifier(trees,oob_score=True,n_jobs=-1,random_state=1)\n",
        "  model.fit(X,y)\n",
        "  print(trees,\"trees\")\n",
        "  roc = roc_auc_score (y, model.oob_pr)\n",
        "  print(\"C-stat:\",roc)\n",
        "  results.append(roc)\n",
        "pd.Series(results,n_estimator).plot();"
      ],
      "execution_count": null,
      "outputs": []
    },
    {
      "cell_type": "code",
      "metadata": {
        "id": "hVxngxI8V__q",
        "colab_type": "code",
        "colab": {}
      },
      "source": [
        ""
      ],
      "execution_count": 51,
      "outputs": []
    },
    {
      "cell_type": "code",
      "metadata": {
        "id": "JYTsSWWnXHbb",
        "colab_type": "code",
        "colab": {}
      },
      "source": [
        ""
      ],
      "execution_count": null,
      "outputs": []
    }
  ]
}